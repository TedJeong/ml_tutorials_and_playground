{
 "cells": [
  {
   "cell_type": "markdown",
   "metadata": {},
   "source": [
    "# Algorithm and design pattern collections"
   ]
  },
  {
   "cell_type": "markdown",
   "metadata": {},
   "source": [
    "### Status quo label\n",
    "\n",
    "[.]:copied [-]:on progress [=]:written [%]:completed [@]:memorized  \n",
    "copied : not wired yet. check path and might contains bug  \n",
    "on progress : fixing bug or refactoring  \n",
    "written : checked functional  \n",
    "completed : refactoring completed and fully functional  \n",
    "meomrized : ready to livecoding  "
   ]
  },
  {
   "cell_type": "markdown",
   "metadata": {},
   "source": [
    "# Contents\n",
    "\n",
    "1. [Algorithm](#Algorithm)\n",
    "  - [MCT] : Monte Carlo Tree Search\n",
    "  - [BFS] : Breath First Search\n",
    "  - [DFS] : Depth First Search  \n",
    "  - [Djikstra] : Searching algorithm \n",
    "  \n",
    "2. [Optimization](#Optimization)\n",
    "  - First Order  \n",
    "    - t  \n",
    "  - Second Order  \n",
    "    - [BFGS](#BFGS) : \n",
    "    - [L-BFGS] : Second order optimization method but need full batch so it's not good for huge dataset  \n",
    "\n",
    "3. [Design pattern](#Design-pattern)  \n",
    "  Class Diagram, Sequence Diagram\n",
    "    - [.][Singleton Pattern](#Singleton-pattern)  \n",
    "  Creational\n",
    "    - [=][Builder pattern](#Builder-pattern) \n",
    "    - [.][Flyweight pattern](#Flyweight-pattern)\n",
    "    - [][Adapter pattern](#Adapter-pattern)\n",
    "\n",
    "4. [Algorithm Problems](#Algorithm Problems)\n",
    "  - [Algorithm training book]\n",
    "  - [Coderbyte-Hard]\n",
    "      - [PatternChaser](#PatternChaser)\n",
    "      - [GasStation](#GasStation)\n",
    "      - [SymmetricMatrix](#SymmetricMatrix)\n",
    "      - [BlackjackHighest](#BlackjackHighest)\n",
    "      - [Queen Check](#Qeen-Check)\n",
    "      - [ShortestPath1](#ShortestPath1)\n",
    "      - [ShortestPath2](#ShortestPath2)\n",
    "\n",
    "# Reference\n",
    "These section is mainly based on [python-patterns github](https://github.com/faif/python-patterns).  \n",
    "[blog post](https://www.toptal.com/python/python-design-patterns)  "
   ]
  },
  {
   "cell_type": "code",
   "execution_count": 25,
   "metadata": {
    "collapsed": false
   },
   "outputs": [
    {
     "name": "stdout",
     "output_type": "stream",
     "text": [
      "Jacobian :  [  0. -12.] \n",
      "Hessian :  [[  2.   0.]\n",
      " [  0. -12.]]\n"
     ]
    }
   ],
   "source": [
    "import numpy as np\n",
    "from numdifftools import Jacobian, Hessian\n",
    "\n",
    "def func(x, a):\n",
    "    return a*(x[0] - 1)**2 - (x[1])**3\n",
    "\n",
    "def func_jac(x, a):\n",
    "    return Jacobian(lambda x: func(x, a))(x).ravel()\n",
    "\n",
    "def func_hess(x, a):\n",
    "    return Hessian(lambda x: func(x, a))(x)\n",
    "\n",
    "\n",
    "print('Jacobian : ', func_jac([1,2],1), '\\nHessian : ',  func_hess([1,2],1))"
   ]
  },
  {
   "cell_type": "markdown",
   "metadata": {},
   "source": [
    "<a id='Algorithm'></a>\n",
    "# 1. Algorithm"
   ]
  },
  {
   "cell_type": "markdown",
   "metadata": {},
   "source": [
    "<a id='Optimization'></a>\n",
    "# 2. Optimization "
   ]
  },
  {
   "cell_type": "markdown",
   "metadata": {},
   "source": [
    "<a id='BFGS'></a>\n",
    "## Broyden-Fletcher-Goldfarb-Shanno algorithm(BFGS)"
   ]
  },
  {
   "cell_type": "code",
   "execution_count": 30,
   "metadata": {
    "collapsed": false
   },
   "outputs": [
    {
     "name": "stdout",
     "output_type": "stream",
     "text": [
      "Optimization terminated successfully.\n",
      "         Current function value: 0.000000\n",
      "         Iterations: 25\n",
      "         Function evaluations: 30\n",
      "         Gradient evaluations: 30\n",
      "[ 1.00000004  1.0000001   1.00000021  1.00000044  1.00000092]\n",
      "Optimization terminated successfully.\n",
      "         Current function value: 0.000000\n",
      "         Iterations: 25\n",
      "         Function evaluations: 30\n",
      "         Gradient evaluations: 30\n",
      "[ 1.00000004  1.0000001   1.00000021  1.00000044  1.00000092]\n"
     ]
    }
   ],
   "source": [
    "import numpy as np\n",
    "from scipy.optimize import minimize\n",
    "\n",
    "# Rosenbrock function : non-convex function example\n",
    "def rosen(x):\n",
    "    return sum(100.0*(x[1:] - x[:-1]**2.0)**2.0 + (1.-x[:-1])**2.0)\n",
    "\n",
    "x0 = np.array([1.3, 0.7, 0.8, 1.9, 1.2])\n",
    "\n",
    "def rosen_jac(x):\n",
    "    return Jacobian(lambda x: rosen(x))(x).ravel()\n",
    "\n",
    "# gradient function\n",
    "def rosen_der(x):\n",
    "    xm = x[1:-1]\n",
    "    xm_m1 = x[:-2]\n",
    "    xm_p1 = x[2:]\n",
    "    \n",
    "    der = np.zeros_like(x)\n",
    "    der[1:-1] = 200*(xm-xm_m1**2) - 400*(xm_p1 - xm**2)*xm - 2*(1 - xm)\n",
    "    der[0] = -400*x[0]*(x[1]- x[0]**2) - 2*(1-x[0])\n",
    "    der[-1] = 200*(x[-1] - x[-2]**2)\n",
    "    return der\n",
    "    \n",
    "res = minimize(rosen, x0, method='BFGS', jac=rosen_der, options={'disp':True})\n",
    "print(res.x)\n",
    "res = minimize(rosen, x0, method='BFGS', jac=rosen_jac, options={'disp':True})\n",
    "print(res.x)\n",
    "# in-depth BFGS"
   ]
  },
  {
   "cell_type": "code",
   "execution_count": 1,
   "metadata": {
    "collapsed": false
   },
   "outputs": [
    {
     "name": "stdout",
     "output_type": "stream",
     "text": [
      "def fmin_bfgs(f, x0, fprime=None, args=(), gtol=1e-5, norm=Inf,\n",
      "              epsilon=_epsilon, maxiter=None, full_output=0, disp=1,\n",
      "              retall=0, callback=None):\n",
      "    \"\"\"\n",
      "    Minimize a function using the BFGS algorithm.\n",
      "\n",
      "    Parameters\n",
      "    ----------\n",
      "    f : callable f(x,*args)\n",
      "        Objective function to be minimized.\n",
      "    x0 : ndarray\n",
      "        Initial guess.\n",
      "    fprime : callable f'(x,*args), optional\n",
      "        Gradient of f.\n",
      "    args : tuple, optional\n",
      "        Extra arguments passed to f and fprime.\n",
      "    gtol : float, optional\n",
      "        Gradient norm must be less than gtol before successful termination.\n",
      "    norm : float, optional\n",
      "        Order of norm (Inf is max, -Inf is min)\n",
      "    epsilon : int or ndarray, optional\n",
      "        If fprime is approximated, use this value for the step size.\n",
      "    callback : callable, optional\n",
      "        An optional user-supplied function to call after each\n",
      "        iteration.  Called as callback(xk), where xk is the\n",
      "        current parameter vector.\n",
      "    maxiter : int, optional\n",
      "        Maximum number of iterations to perform.\n",
      "    full_output : bool, optional\n",
      "        If True,return fopt, func_calls, grad_calls, and warnflag\n",
      "        in addition to xopt.\n",
      "    disp : bool, optional\n",
      "        Print convergence message if True.\n",
      "    retall : bool, optional\n",
      "        Return a list of results at each iteration if True.\n",
      "\n",
      "    Returns\n",
      "    -------\n",
      "    xopt : ndarray\n",
      "        Parameters which minimize f, i.e. f(xopt) == fopt.\n",
      "    fopt : float\n",
      "        Minimum value.\n",
      "    gopt : ndarray\n",
      "        Value of gradient at minimum, f'(xopt), which should be near 0.\n",
      "    Bopt : ndarray\n",
      "        Value of 1/f''(xopt), i.e. the inverse hessian matrix.\n",
      "    func_calls : int\n",
      "        Number of function_calls made.\n",
      "    grad_calls : int\n",
      "        Number of gradient calls made.\n",
      "    warnflag : integer\n",
      "        1 : Maximum number of iterations exceeded.\n",
      "        2 : Gradient and/or function calls not changing.\n",
      "    allvecs  :  list\n",
      "        `OptimizeResult` at each iteration.  Only returned if retall is True.\n",
      "\n",
      "    See also\n",
      "    --------\n",
      "    minimize: Interface to minimization algorithms for multivariate\n",
      "        functions. See the 'BFGS' `method` in particular.\n",
      "\n",
      "    Notes\n",
      "    -----\n",
      "    Optimize the function, f, whose gradient is given by fprime\n",
      "    using the quasi-Newton method of Broyden, Fletcher, Goldfarb,\n",
      "    and Shanno (BFGS)\n",
      "\n",
      "    References\n",
      "    ----------\n",
      "    Wright, and Nocedal 'Numerical Optimization', 1999, pg. 198.\n",
      "\n",
      "    \"\"\"\n",
      "    opts = {'gtol': gtol,\n",
      "            'norm': norm,\n",
      "            'eps': epsilon,\n",
      "            'disp': disp,\n",
      "            'maxiter': maxiter,\n",
      "            'return_all': retall}\n",
      "\n",
      "    res = _minimize_bfgs(f, x0, args, fprime, callback=callback, **opts)\n",
      "\n",
      "    if full_output:\n",
      "        retlist = (res['x'], res['fun'], res['jac'], res['hess_inv'],\n",
      "                   res['nfev'], res['njev'], res['status'])\n",
      "        if retall:\n",
      "            retlist += (res['allvecs'], )\n",
      "        return retlist\n",
      "    else:\n",
      "        if retall:\n",
      "            return res['x'], res['allvecs']\n",
      "        else:\n",
      "            return res['x']\n",
      "\n"
     ]
    }
   ],
   "source": [
    "import inspect\n",
    "from scipy.optimize import fmin_bfgs\n",
    "from pprint import pprint\n",
    "print(inspect.getsource(fmin_bfgs))"
   ]
  },
  {
   "cell_type": "markdown",
   "metadata": {},
   "source": [
    "<a id='Design-pattern'></a>\n",
    "# 3. Design Pattern"
   ]
  },
  {
   "cell_type": "markdown",
   "metadata": {},
   "source": [
    "<a id='Sigleton-pattern'></a>\n",
    "## Singleton pattern"
   ]
  },
  {
   "cell_type": "code",
   "execution_count": null,
   "metadata": {
    "collapsed": true
   },
   "outputs": [],
   "source": [
    "class Singleton(object):\n",
    "    __instance = None\n",
    "    def __new__(cls, val):\n",
    "        if Singleton.__instance is None:\n",
    "            Singleton.__instance = object.__new__(cls)\n",
    "        Singleton.__instance.val = val\n",
    "        return Singleton.__instance\n",
    "    \n",
    "class Singleton2(object):\n",
    "    class __Singleton2:\n",
    "        def __init__(self, arg):\n",
    "            self.val = arg\n",
    "        \n",
    "        def __str__(self):\n",
    "            return repr(self) + self.val\n",
    "        \n",
    "    instance = None\n",
    "    \n",
    "    def __init__(self, arg):\n",
    "        if not Singleton2.instance:\n",
    "            Singleton2.instance = Singleton2.__Singleton2(arg)\n",
    "        else:\n",
    "            Singleton.instance.val = arg\n",
    "    \n",
    "    def __getattr__(self, name):\n",
    "        return getattr(self.instance, name)"
   ]
  },
  {
   "cell_type": "markdown",
   "metadata": {},
   "source": [
    "<a id='Builder-pattern'></a>\n",
    "## Builder pattern"
   ]
  },
  {
   "cell_type": "code",
   "execution_count": 6,
   "metadata": {
    "collapsed": false,
    "scrolled": true
   },
   "outputs": [
    {
     "name": "stdout",
     "output_type": "stream",
     "text": [
      "Exterior: exterior Gaudi style, Interior: interor Gaudi style\n"
     ]
    }
   ],
   "source": [
    "class Director(object):\n",
    "    def __init__(self):\n",
    "        self.builder = None\n",
    "    \n",
    "    def construct_building(self):\n",
    "        self.builder.create_new()\n",
    "        self.builder.build_exterior()\n",
    "        self.builder.build_interior()\n",
    "        \n",
    "    def get_building(self):\n",
    "        return self.builder.building\n",
    "        \n",
    "        \n",
    "class Builder(object):\n",
    "    def __init__(self):\n",
    "        self.building = None\n",
    "        \n",
    "    def create_new(self):\n",
    "        self.building = Building()\n",
    "    \n",
    "    def build_exterior(self):\n",
    "        raise NotImplementedError\n",
    "\n",
    "    def build_interior(self):\n",
    "        raise NotImplementedError\n",
    "        \n",
    "    \n",
    "class Gaudi(Builder):\n",
    "    def build_exterior(self):\n",
    "        self.building.exterior = 'exterior Gaudi style'\n",
    "        \n",
    "    def build_interior(self):\n",
    "        self.building.interior = 'interor Gaudi style'\n",
    "    \n",
    "    \n",
    "# product\n",
    "class Building(object):\n",
    "    def __init__(self):\n",
    "        self.exterior = None\n",
    "        self.interior = None\n",
    "        \n",
    "    def __repr__(self):\n",
    "        return 'Exterior: {0.exterior}, Interior: {0.interior}'.format(self)\n",
    "    \n",
    "director = Director()\n",
    "director.builder = Gaudi()\n",
    "director.construct_building()\n",
    "building = director.get_building()\n",
    "print(building)"
   ]
  },
  {
   "cell_type": "markdown",
   "metadata": {
    "collapsed": true
   },
   "source": [
    "## Facade pattern"
   ]
  },
  {
   "cell_type": "code",
   "execution_count": 1,
   "metadata": {
    "collapsed": false
   },
   "outputs": [
    {
     "ename": "SyntaxError",
     "evalue": "invalid syntax (<ipython-input-1-c46c31159310>, line 1)",
     "output_type": "error",
     "traceback": [
      "\u001b[0;36m  File \u001b[0;32m\"<ipython-input-1-c46c31159310>\"\u001b[0;36m, line \u001b[0;32m1\u001b[0m\n\u001b[0;31m    class Greek\u001b[0m\n\u001b[0m               ^\u001b[0m\n\u001b[0;31mSyntaxError\u001b[0m\u001b[0;31m:\u001b[0m invalid syntax\n"
     ]
    }
   ],
   "source": []
  },
  {
   "cell_type": "markdown",
   "metadata": {},
   "source": [
    "<a id='Flyweight-pattern'></a>\n",
    "## Flyweight pattern\n",
    "\n",
    "#### http://stackoverflow.com/questions/674304/pythons-use-of-new-and-init\n",
    "\n",
    "데이터를 공유하여 메모리를 효율적으로 사용하는 패턴. 메모리를 많이 잡는 클래스는 인스턴스를 많이 만들면 부담스러우므로 인스턴스간 자원을 최대한 많이 공유하게 한다."
   ]
  },
  {
   "cell_type": "code",
   "execution_count": null,
   "metadata": {
    "collapsed": true
   },
   "outputs": [],
   "source": [
    "import weakref\n",
    "# object를 가리키고 있는게 오직 weakref 객체이면 garbage collection을 한다\n",
    "\n",
    "class FlyweigthMeta(type):\n",
    "    def __new__(mcs, name, parents, dct):\n",
    "        dct['pool'] = weakref.WeakValueDictionary()\n",
    "        return super(FlyweightMeta, mcs).__new__(mcs, name, parents, dct)\n",
    "    \n",
    "    @staticmethod\n",
    "    def _serialize_params(cls, *args, **kwargs):\n",
    "        \"\"\"\n",
    "            input 을 key 로 serialize\n",
    "        \"\"\"\n",
    "        args_list = list(map(str, args))\n",
    "        args_list.extend([str(kwargs), cls.__name__])\n",
    "        key = ''.join(args_list)\n",
    "        \n",
    "        return key\n",
    "    \n",
    "    def __call__(cls, *args, **kwargs):\n",
    "        key = FlyweightMeta._serialize_params(cls, *args, **kwargs)\n",
    "        pool = getattr(cls, 'pool', {})\n",
    "    \n",
    "        instance = pool.get(key)\n",
    "        if not instance:\n",
    "            instance = super(FlyweightMeta, cls).__call__(*args, **kwargs)\n",
    "            pool[key] = instance\n",
    "        return instance\n",
    "    \n",
    "    \n",
    "class Card(object):\n",
    "    _CardPool = weakref.WeakValueDictionary()\n",
    "    \n",
    "    # Pool 에 object가 없으면 생성, 있으면 리턴\n",
    "    def __new__(cls, value, suit):\n",
    "        obj = Card._CardPool.get(value + suit)\n",
    "        if not obj:\n",
    "            obj = object.__new__(cls)\n",
    "            Card._CardPool[value + suit] = obj\n",
    "            obj.value, obj.suit = value, suit\n",
    "        return obj\n",
    "    \n",
    "    def __repr__(self):\n",
    "        return '<Card: {:s}{:s}'.format(self.value, self.suit)\n",
    "    \n",
    "    \n",
    "def with_metaclass(meta, *bases):\n",
    "    return meta('NewBase', bases, {})\n",
    "\n",
    "class Card2(with_metaclass(FlyweightMeta)):\n",
    "    def __init__(self, *args, **kwargs):\n",
    "        pass\n",
    "\n",
    "if __name__ == '__main___':\n",
    "    c1 = Card('9', 'heart')\n",
    "    c2 = Card('9', 'heart')\n",
    "    \n",
    "    print(c1, c2)\n",
    "    print(c1 == c2, c1 is c2)\n",
    "    print(id(c1), id(c2))\n",
    "    \n",
    "    c1.temp = None\n",
    "    c3 = Card('9', 'heart')\n",
    "    print(hasattr(c3, 'temp'))\n",
    "    c1 = c2 = c3 = None\n",
    "    c3 = Card('9', 'temp')\n",
    "    print(hasattr(c3, 'temp'))\n",
    "    \n",
    "    instances_pool = getattr(Card2, 'pool')\n",
    "\n",
    "    cm1 = Card2('10', 'h', a=1)\n",
    "    cm2 = Card2('10', 'h', a=1)"
   ]
  },
  {
   "cell_type": "markdown",
   "metadata": {
    "collapsed": true
   },
   "source": [
    "<a id='Adapter-pattern'></a>\n",
    "## Adapter pattern"
   ]
  },
  {
   "cell_type": "code",
   "execution_count": 6,
   "metadata": {
    "collapsed": false
   },
   "outputs": [
    {
     "name": "stdout",
     "output_type": "stream",
     "text": [
      "{'name': 'dog'}\n",
      "{'make_noise': <bound method Dog.bark of <__main__.Dog object at 0x7f0c48587e10>>, 'obj': <__main__.Dog object at 0x7f0c48587e10>}\n",
      "{'name': 'dog'}\n",
      "dog says wal.\n",
      "Cat says meow.\n"
     ]
    }
   ],
   "source": [
    "class Dog(object):\n",
    "    def __init__(self):\n",
    "        self.name = 'dog'\n",
    "        \n",
    "    def bark(self):\n",
    "        return 'wal'\n",
    "\n",
    "class Cat(object):\n",
    "    def __init__(self):\n",
    "        self.name = 'Cat'\n",
    "        \n",
    "    def meow(self):\n",
    "        return 'meow'\n",
    "    \n",
    "class Adapter(object):\n",
    "    def __init__(self, obj, **adaptee):\n",
    "        self.obj = obj\n",
    "        self.__dict__.update(adaptee) # instance method\n",
    "    \n",
    "    def __getattr__(self, attr):\n",
    "        return getattr(self.obj, attr)\n",
    "    \n",
    "    def original_dict(self):\n",
    "        return self.obj.__dict__\n",
    "        \n",
    "if __name__ == '__main__':\n",
    "    objects = []\n",
    "    dog = Dog()\n",
    "    print(dog.__dict__)\n",
    "    objects.append(Adapter(dog, make_noise=dog.bark))\n",
    "    print(objects[0].__dict__)\n",
    "    print(objects[0].original_dict())\n",
    "    cat = Cat()\n",
    "    objects.append(Adapter(cat, make_noise=cat.meow))\n",
    "    \n",
    "    for obj in objects:\n",
    "        print('{} says {}.'.format(obj.name, obj.make_noise()))"
   ]
  },
  {
   "cell_type": "markdown",
   "metadata": {},
   "source": [
    "<a id='Algorithm Problems'></a>\n",
    "# 4. Algorithm Problems"
   ]
  },
  {
   "cell_type": "markdown",
   "metadata": {},
   "source": [
    "<a id='PatternChaser'></a>\n",
    "## [Hard]PatternChaser\n",
    "\n",
    "주어진 문자열에 2자 이상 연속되는(contiguous) 단어가 반복될 시,\n",
    "\n",
    "반복되는 단어들 중 가장 긴 단어와 \"yes\" 를 리턴한다.\n",
    "\n",
    "없으면 \"no null\" 을 리턴 한다.\n",
    "\n",
    "\n",
    "Input:\"da2kr32a2\"\n",
    "Output:\"yes a2\"\n",
    "\n",
    "Input:\"sskfssbbb9bbb\"\n",
    "Output:\"yes bbb\""
   ]
  },
  {
   "cell_type": "code",
   "execution_count": 8,
   "metadata": {
    "collapsed": false
   },
   "outputs": [
    {
     "name": "stdout",
     "output_type": "stream",
     "text": [
      "yes a2\n",
      "yes bbb\n"
     ]
    }
   ],
   "source": [
    "def PatternChaser(strs): \n",
    "    can=[]\n",
    "    for i in range(len(strs)-3):\n",
    "        for j in range((len(strs)-i)//2+i,i,-1):\n",
    "            word=strs[i:j+1]\n",
    "            if strs.find(word,j+1)!=-1:\n",
    "                can.append(word)\n",
    "    if len(can)==0:\n",
    "        return \"no null\"\n",
    "    n=can[0]\n",
    "    for k in range(len(can)):\n",
    "        if len(can[k])>len(n):\n",
    "            n=can[k]\n",
    "    return \"yes \"+n\n",
    "\n",
    "print(PatternChaser(\"da2kr32a2\"))\n",
    "print(PatternChaser(\"sskfssbbb9bbb\"))"
   ]
  },
  {
   "cell_type": "code",
   "execution_count": 9,
   "metadata": {
    "collapsed": false
   },
   "outputs": [
    {
     "ename": "IndentationError",
     "evalue": "expected an indented block (<ipython-input-9-c33e1d15ce17>, line 7)",
     "output_type": "error",
     "traceback": [
      "\u001b[0;36m  File \u001b[0;32m\"<ipython-input-9-c33e1d15ce17>\"\u001b[0;36m, line \u001b[0;32m7\u001b[0m\n\u001b[0;31m    for i in range(nlen-n-n+1):\u001b[0m\n\u001b[0m      ^\u001b[0m\n\u001b[0;31mIndentationError\u001b[0m\u001b[0;31m:\u001b[0m expected an indented block\n"
     ]
    }
   ],
   "source": [
    "def others():\n",
    "    def PatternChaser(s): \n",
    "        nlen = len(s)\n",
    "        #start from the longest possible (nlen/2)\n",
    "        for n in range(nlen>>1, 1, -1):\n",
    "            #check for all possible starting index for the pattern\n",
    "            for i in range(nlen-n-n+1):\n",
    "                if s[i:i+n] in s[i+n:]:\n",
    "                    return 'yes ' + s[i:i+n]\n",
    "        return 'no null'"
   ]
  },
  {
   "cell_type": "markdown",
   "metadata": {},
   "source": [
    "<a id='GasStation'></a>\n",
    "## [Hard]GasStation\n",
    "\n",
    "주어진 문자열 [n, g1:c1, g2:c2 ...]에서  \n",
    "\n",
    "g가 gas station에서 받을 수 있는 gas의 양이고,  \n",
    "\n",
    "c가 다음(마지막은 처음으로) gas station 까지 가는데 필요한 gas의 양이다.  \n",
    "\n",
    "n은 gas station의 갯수 이다.  \n",
    "\n",
    "어느 gas station에서 시작해서 다시 돌아올 수 있을 때 그 gas station의 list index를 리턴하고,  \n",
    "\n",
    "불가능 할 때 \"impossible\"을 리턴한다.  \n",
    "\n",
    "\n",
    "Input:\"4\",\"1:1\",\"2:2\",\"1:2\",\"0:1\"  \n",
    "Output:\"impossible\"  \n",
    "\n",
    "Input:\"4\",\"0:1\",\"2:2\",\"1:2\",\"3:1\"  \n",
    "Output:\"4\"  "
   ]
  },
  {
   "cell_type": "code",
   "execution_count": null,
   "metadata": {
    "collapsed": true
   },
   "outputs": [],
   "source": [
    "def GasStation(strArr): \n",
    "    num=int(strArr[0])\n",
    "    gst=strArr[1:]\n",
    "    for i in range(num):\n",
    "        t=0\n",
    "        for k in range(i,i+num):\n",
    "            sup=int(gst[(k%num)].split(\":\")[0])\n",
    "            dem=int(gst[(k%num)].split(\":\")[1])\n",
    "            t=t+sup-dem\n",
    "            if t<0:\n",
    "                break\n",
    "        else:\n",
    "            return i+1\n",
    "    else:\n",
    "        return \"impossible\"\n",
    "    \n",
    "print(GasStation([\"4\",\"3:1\",\"2:2\",\"1:2\",\"0:1\"])==\"impossible\")\n",
    "print(GasStation([\"4\",\"0:1\",\"2:2\",\"1:2\",\"3:1\"])==4)"
   ]
  },
  {
   "cell_type": "code",
   "execution_count": null,
   "metadata": {
    "collapsed": true
   },
   "outputs": [],
   "source": [
    "def others():\n",
    "    #from itertools import accumulate\n",
    "    def GasStation_sabin(sa): \n",
    "        gmin = 1<<20\n",
    "        gi = 0\n",
    "        gs = 0\n",
    "        gsum = [int(g) - int(c) for s in sa[1:] for g,c in [s.split(':')] ]\n",
    "        for i,v in enumerate(gsum):\n",
    "            gs += v\n",
    "            if gs < gmin:\n",
    "                gmin = gs\n",
    "                gi = i    \n",
    "        if gs < 0: \n",
    "            return 'impossible'\n",
    "        if gmin >= 0:\n",
    "            return 1\n",
    "        return (gi + 1) % len(gsum) + 1"
   ]
  },
  {
   "cell_type": "markdown",
   "metadata": {
    "collapsed": true
   },
   "source": [
    "<a id='SymmetricMatrix'></a>\n",
    "## [Hard]SymmetricMatrix\n",
    "\n",
    "리스트로 주어진 행렬의 행을 \"<>\" 로 구분한다. 주어진 행렬이 대칭행렬 이면 \"symmetric\" 리턴,\n",
    "\n",
    "square 이지만 대칭행렬이 아니면 \"not symmetric\" 리턴,\n",
    "\n",
    "square 도 아니면 \"not possible\" 리턴.\n",
    "\n",
    "\n",
    "\n",
    "\n",
    "Input:\"5\",\"0\",\"<>\",\"0\",\"5\"\n",
    "\n",
    "Output:\"symmetric\"\n",
    "\n",
    "\n",
    "Input:\"1\",\"2\",\"4\",\"<>\",\"2\",\"1\",\"1\",\"<>\",\"-4\",\"1\",\"-1\"\n",
    "\n",
    "Output:\"not symmetric\""
   ]
  },
  {
   "cell_type": "code",
   "execution_count": 28,
   "metadata": {
    "collapsed": false
   },
   "outputs": [
    {
     "name": "stdout",
     "output_type": "stream",
     "text": [
      "True\n",
      "True\n",
      "True\n"
     ]
    }
   ],
   "source": [
    "def SymmetricMatrix(strArr):\n",
    "    num, flag = CheckSqMat(strArr)\n",
    "    if flag == False:\n",
    "        return \"not possible\"\n",
    "    else:\n",
    "        for i in range(num):\n",
    "            for j in range(i, num):\n",
    "                if strArr[i * (num + 1) + j] != strArr[j * (num + 1) + i]:\n",
    "                    return \"not symmetric\"\n",
    "        else:\n",
    "            return \"symmetric\"\n",
    " \n",
    " \n",
    "def CheckSqMat(strArr):\n",
    "    l, num = len(strArr), 0\n",
    "    if l == 1:\n",
    "        return \"symmetric\"\n",
    "    else:\n",
    "        try:\n",
    "            num = strArr.index(\"<>\")\n",
    "            c, n, lc = num, 0, 1\n",
    "            while True:\n",
    "                if lc < num - 1:\n",
    "                    n = strArr.index(\"<>\", c + 1)\n",
    "                    lc += 1\n",
    "                    if n - c - 1 != num:\n",
    "                        flag = False\n",
    "                        break\n",
    "                else:\n",
    "                    flag = (l-c-1 == num) and True or False\n",
    "                    break\n",
    "                c = n\n",
    "        except:\n",
    "            flag = False\n",
    " \n",
    "    return num, flag\n",
    " \n",
    "print(SymmetricMatrix([\"5\",\"0\",\"<>\",\"0\",\"5\"]) == \"symmetric\")\n",
    "print(SymmetricMatrix([\"1\",\"2\",\"4\",\"<>\",\"2\",\"1\",\"1\",\"<>\",\"-4\",\"1\",\"-1\"]) == \"not symmetric\")\n",
    "print(SymmetricMatrix([\"1\",\"0\",\"1\",\"<>\",\"0\",\"1\",\"0\",\"<>\",\"1\",\"0\",\"1\"]) == \"symmetric\")"
   ]
  },
  {
   "cell_type": "code",
   "execution_count": 29,
   "metadata": {
    "collapsed": true
   },
   "outputs": [],
   "source": [
    "def others():\n",
    "    def SymmetricMatrix_sabin(sa): \n",
    "        #number of rows\n",
    "        rows = sa.count('<>') + 1\n",
    "        #flatten it\n",
    "        slist = [int(i) for i in sa if i != '<>']\n",
    "        #split it, trust input!\n",
    "        cols = len(slist) / rows\n",
    "        if rows != cols:\n",
    "            return 'not possible' \n",
    "        #seen matrix?\n",
    "        mat = zip(*[iter(slist)]*cols)\n",
    "        for i in range(rows):\n",
    "            for j in range(cols):\n",
    "                if mat[i][j] != mat[j][i]:\n",
    "                    return 'not symmetric'\n",
    "        #what else could it be?\n",
    "        return 'symmetric'"
   ]
  },
  {
   "cell_type": "markdown",
   "metadata": {},
   "source": [
    "<a id='BlackjackHighest'></a>\n",
    "## [Hard]BlackjackHighest\n",
    "\n",
    "\n",
    "블랙잭 룰을 기반으로 주어진 카드가 21 값에 어떤 관계인지 판별하는 문제이다.\n",
    "\n",
    "21과의 대소 관계 (\"above\", \"below\", \"blackjack\" 중 일) +\" \"+가장 큰 숫자 리턴.\n",
    "\n",
    "face card 포함 10을 가지는 카드는 jack, queen, king, ten 순이다.\n",
    "\n",
    "\n",
    "input : \"four\",\"ace\",\"ten\"  \n",
    "output : \"below ten\"\n",
    "\n",
    "input : \"ace\",\"queen\"  \n",
    "output : \"blackjack ace\"\n",
    "\n",
    "---\n",
    "\n",
    "#python 3항 연산자\n",
    "\n",
    "는 기본적으로 14 줄처럼 쓸 수 있다.\n",
    "\n",
    "주의 할 점은\n",
    "\n",
    "좌항은 if 절 거치기 전에 수행 되기 때문에\n",
    "\n",
    "15줄 처럼 쓰면 키에러가 난다. \n",
    "\n",
    "14줄에 and 앞에 'ace' 먼저 넣은 것 도 마찬가지.\n",
    "\n",
    "\n",
    "#python custom dictionary sort\n",
    "\n",
    "lambda 와 dictionary 를 이용해서 custom sort를 할 수 있다.\n",
    "\n",
    "\n",
    "#python dictionary default value\n",
    "\n",
    "dictionary.get(key,default_value) 로 key 가 없을 때 default value를 줄 수 있다."
   ]
  },
  {
   "cell_type": "code",
   "execution_count": 2,
   "metadata": {
    "collapsed": false
   },
   "outputs": [
    {
     "name": "stdout",
     "output_type": "stream",
     "text": [
      "True\n",
      "True\n",
      "True\n"
     ]
    }
   ],
   "source": [
    "def BlackjackHighest(strArr): \n",
    "    cards=\\\n",
    "        {'two':2, 'three':3, 'four':4,\n",
    "        'five':5, 'six':6, 'seven':7,\n",
    "        'eight':8, 'nine':9, 'ten':10,\n",
    "        'jack':10, 'queen':10, 'king':10}\n",
    " \n",
    "    strArr=CardVal(strArr) #jack, queen, king, ten order\n",
    "    p,flag,fflag = 0,0,0 # points, ace flag, ace usage flag\n",
    "    highest = strArr[0]# if strArr[0]!='ace' else strArr[1] don't need if sorted\n",
    " \n",
    "    for i in strArr:\n",
    "        p, flag = (p+0, 1) if (i == 'ace') else (p+int(cards[i]), 0)\n",
    "        highest = i if (i!='ace' and int(cards[i]) >= int(cards[highest])) else highest\n",
    "        #p, flag = (p + int(cards[i]), 1) if (i == 'ace') else (p + 0, 0)\n",
    "    \n",
    "    if flag == 1:\n",
    "        p, fflag, highest = (p+1, 1, highest) if p >= 11 else (p+11, 11,'ace')\n",
    " \n",
    "    if p == 21:\n",
    "        return \"blackjack \"+highest\n",
    "    elif p>21:\n",
    "        return \"above \"+highest\n",
    "    else:\n",
    "        return \"below \"+highest\n",
    " \n",
    " \n",
    "def CardVal(strArr):\n",
    "    order = {\"ten\": 0, \"king\": 1, \"queen\": 2, \"jack\": 3, \"ace\": 4}\n",
    "    strArr.sort(key=lambda val: order.get(val, -1))\n",
    "    return strArr\n",
    " \n",
    "print(BlackjackHighest([\"four\",\"ace\",\"ten\"]) == \"below ten\")\n",
    "print(BlackjackHighest([\"ace\",\"queen\"]) == \"blackjack ace\")\n",
    "print(BlackjackHighest([\"queen\",\"ace\",\"ten\"]) == \"blackjack queen\")"
   ]
  },
  {
   "cell_type": "code",
   "execution_count": null,
   "metadata": {
    "collapsed": true
   },
   "outputs": [],
   "source": [
    "#others \n",
    "def others:\n",
    "    def BlackjackHighest_sabin(sa): \n",
    "        tags = ['zero', 'one',  'two', 'three', 'four', 'five', 'six', 'seven', 'eight', 'nine', 'ten', 'jack', 'queen', 'king', 'ace']\n",
    "        vals = { name : tags.index(name) for name in tags}\n",
    "        vals['jack'] = 10\n",
    "        vals['queen'] = 10\n",
    "        vals['king'] = 10\n",
    "        vals['ace'] = 11\n",
    "        total = sum([vals[i] for i in sa])\n",
    "        rsa = 'blackjack '\n",
    "        if total > 21 and 'ace' in sa:\n",
    "            total -= 10\n",
    "          sa.remove('ace')\n",
    "        if total < 21:\n",
    "            rsa = 'below '\n",
    "        elif total > 21:\n",
    "            rsa = 'above '\n",
    "        rsb = max(sa, key=lambda x: tags.index(x))\n",
    "        sb = sorted(sa, key=vals.__getitem__)\n",
    "        return rsa + str(rsb)\n"
   ]
  },
  {
   "cell_type": "markdown",
   "metadata": {},
   "source": [
    "<a id='Queen-Check'></a>\n",
    "## [Hard]Queen Check\n",
    "\n",
    "8x8 체스룰에서 Queen과 King의 위치가 주어졌을 때,  \n",
    "checkmate가 아니면 -1 리턴, checkmate 이면  King이 Queen 으로 부터 벗어날 수 있는  \n",
    "이동의 갯수를 리턴  "
   ]
  },
  {
   "cell_type": "markdown",
   "metadata": {},
   "source": [
    "Input:\"(1,1)\",\"(1,4)\"  \n",
    "Output:3  \n",
    "\n",
    "Input:\"(3,1)\",\"(4,4)\"  \n",
    "Output:-1  "
   ]
  },
  {
   "cell_type": "code",
   "execution_count": 1,
   "metadata": {
    "collapsed": false
   },
   "outputs": [
    {
     "name": "stdout",
     "output_type": "stream",
     "text": [
      "True\n",
      "True\n"
     ]
    }
   ],
   "source": [
    "def QueenCheck(strArr):\n",
    "    kp,qp=eval(strArr[1]),eval(strArr[0])\n",
    "    kdxy = [(dx,dy) for dx in [-1,0,1] for dy in [-1,0,1]]\n",
    "    qdxy = [(dx,0) for dx in range(-7,8)]\\\n",
    "            +[(0,dy) for dy in range(-7,8)]\\\n",
    "             +[(d,d) for d in range(-7,8)]\\\n",
    "              +[(d,-d) for d in range(-7,8)]\n",
    "    \n",
    "    c, kps, qps = 0, [], []\n",
    "    \n",
    "    for dxy in qdxy: # possible moves of queen\n",
    "        elem=tuple(map(sum,zip(qp,dxy))) \n",
    "        if isOnBoard(elem):\n",
    "            qps.append(elem)\n",
    "    qps = list(set(qps))\n",
    "    \n",
    "    if kp not in qps:\n",
    "        return -1\n",
    "    else:\n",
    "        for dxy in kdxy: # possible moves of king\n",
    "            elem=tuple(map(sum,zip(kp,dxy)))\n",
    "            if isOnBoard(elem):\n",
    "                kps.append(elem)\n",
    "        kps = list(set(kps))\n",
    "        \n",
    "        for kpt in kps: # escape\n",
    "            c=c+1 if kpt not in qps else c+0\n",
    "        if qp in kps: # king can capture queen\n",
    "            c+=1\n",
    "        return c\n",
    "    \n",
    "    \n",
    "def isOnBoard(pos):\n",
    "    if 1<=pos[0]<=8 and 1<=pos[1]<=8:\n",
    "        return True\n",
    "    else:\n",
    "        return False\n",
    "    \n",
    "# keep this function call here  \n",
    "print(QueenCheck((\"(1,1)\",\"(1,4)\"))==3)\n",
    "print(QueenCheck((\"(3,1)\",\"(4,4)\"))==-1)"
   ]
  },
  {
   "cell_type": "markdown",
   "metadata": {
    "collapsed": true
   },
   "source": [
    "<a id='ShortestPath1'></a>\n",
    "## [Hard]ShortestPath1"
   ]
  },
  {
   "cell_type": "markdown",
   "metadata": {},
   "source": [
    "주어진 문자열 배열 [a1,n1,n2..,c1,..] 에서 a1은 노드의 갯수를, n1,n2... 는 노드의 이름(여러자가 될 수 있다.)을, c1... 은 연결된 두 노드를 가리킨다. n 으로 배정된 문자열에서 가장 첫번째 노드와 마지막 노드의 가장 짧은 path 를 리턴한다. path가 없으면 -1을 리턴한다.\n",
    "\n",
    "\n",
    "Input:\"5\",\"A\",\"B\",\"C\",\"D\",\"F\",\"A-B\",\"A-C\",\"B-C\",\"C-D\",\"D-F\"\n",
    "\n",
    "Output:\"A-C-D-F\"\n",
    "\n",
    "\n",
    "Input:\"4\",\"X\",\"Y\",\"Z\",\"W\",\"X-Y\",\"Y-Z\",\"X-W\"\n",
    "\n",
    "Output:\"X-W\"\n",
    "\n",
    "---\n",
    "\n",
    "그래프에서 노드 찾기는 정식화 되어있는 문제인 것 같다. \n",
    "\n",
    "귀찮다고 \n",
    "\n",
    "이전에 탐색한 노드가 새롭게 생기는 노드와 다르다는 조건 안넣으면\n",
    "\n",
    "disconnected graph 못 잡는다."
   ]
  },
  {
   "cell_type": "code",
   "execution_count": 3,
   "metadata": {
    "collapsed": false
   },
   "outputs": [
    {
     "name": "stdout",
     "output_type": "stream",
     "text": [
      "A-C-D-F\n",
      "X-W\n",
      "True\n",
      "True\n",
      "True\n",
      "True\n"
     ]
    }
   ],
   "source": [
    "def ShortestPath(strArr):\n",
    "    n = int(strArr[0])\n",
    "    Nodes = strArr[1:n + 1]\n",
    "    g = GraphGen(Nodes, strArr[n + 1:])\n",
    "    aws=BFS(g, Nodes[0], Nodes[-1])\n",
    "    if aws != None : return aws\n",
    "    else : return -1\n",
    "    \n",
    "def BFS(g, start, target):\n",
    "    q = [[start]]\n",
    "    while q:\n",
    "        path = q.pop(0)\n",
    "        en = path[-1]\n",
    "        if len(path)>=2:\n",
    "            bn = path[-2]\n",
    "        else:\n",
    "            bn = en\n",
    "        if en == target:\n",
    "            return '-'.join(path)\n",
    "        for w in g[en]:\n",
    "            if bn!=w:\n",
    "                newp = path + [w]\n",
    "                q.append(newp)\n",
    "                \n",
    "def GraphGen(nodes, conn):\n",
    "    r = {}\n",
    "    for i in range(len(nodes)):\n",
    "        r[nodes[i]] = []\n",
    " \n",
    "    for j in range(len(conn)):\n",
    "        conn[j] = conn[j].split('-')\n",
    " \n",
    "    for k in range(len(conn)):\n",
    "        r[conn[k][0]] += [conn[k][1]]\n",
    "        r[conn[k][1]] += [conn[k][0]]\n",
    "    return r\n",
    " \n",
    "print(ShortestPath([\"5\",\"A\",\"B\",\"C\",\"D\",\"F\",\"A-B\",\"A-C\",\"B-C\",\"C-D\",\"D-F\"]))\n",
    "print(ShortestPath([\"4\",\"X\",\"Y\",\"Z\",\"W\",\"X-Y\",\"Y-Z\",\"X-W\"]))\n",
    "print(ShortestPath([\"7\",\"D\",\"A\",\"N\",\"I\",\"E\",\"L\",\"B\",\"D-A\",\"A-N\",\"E-B\",\"E-L\"]) == -1)\n",
    "print(ShortestPath([\"6\",\"Z\",\"B\",\"C\",\"A\",\"Y\",\"Q\",\"B-C\",\"A-B\",\"A-Z\",\"C-Y\",\"Z-Y\",\"C-Q\"]) == \"Z-Y-C-Q\")\n",
    "print(ShortestPath([\"2\",\"First Street\",\"Third Street\"]) == -1)\n",
    "print(ShortestPath([\"5\",\"N1\",\"N2\",\"N3\",\"N4\",\"N5\",\"N1-N3\",\"N3-N4\",\"N4-N5\",\"N5-N2\",\"N2-N1\"]) == \"N1-N2-N5\")"
   ]
  },
  {
   "cell_type": "markdown",
   "metadata": {},
   "source": [
    "<a id='ShortestPath2'></a>\n",
    "## [Hard]ShortestPath2"
   ]
  },
  {
   "cell_type": "markdown",
   "metadata": {},
   "source": [
    "Weighted graph 에서 최단거리를 찾는 문제이다. \n",
    "이전과 마찬가지로 주어진 문자열 배열 [n,a1,a2...aN,c1,c2...] n은 노드의 갯수이고, a는 노드의 이름들, c는 연결된 노드와 weight 을 나타낸다. delimeter 는 '|' 이다. a1 에서 aN 으로 가는 최단거리를 리턴한다. disconnected graph 는 -1을 리턴한다.\n",
    "\n",
    "\n",
    "Input:\"4\",\"A\",\"B\",\"C\",\"D\", \"A|B|2\", \"C|B|11\", \"C|D|3\", \"B|D|2\"\n",
    "\n",
    "Output:\"A-B-D\"\n",
    "\n",
    "\n",
    "Input:\"4\",\"x\",\"y\",\"z\",\"w\",\"x|y|2\",\"y|z|14\", \"z|y|31\"\n",
    "\n",
    "Output:-1\n",
    "\n",
    "---\n",
    "\n",
    "Dijkstra's algorithm"
   ]
  },
  {
   "cell_type": "code",
   "execution_count": 7,
   "metadata": {
    "collapsed": false
   },
   "outputs": [
    {
     "ename": "AttributeError",
     "evalue": "'dict_keys' object has no attribute 'pop'",
     "output_type": "error",
     "traceback": [
      "\u001b[0;31m---------------------------------------------------------------------------\u001b[0m",
      "\u001b[0;31mAttributeError\u001b[0m                            Traceback (most recent call last)",
      "\u001b[0;32m<ipython-input-7-f2c400085880>\u001b[0m in \u001b[0;36m<module>\u001b[0;34m()\u001b[0m\n\u001b[1;32m     64\u001b[0m     \u001b[0;32mreturn\u001b[0m \u001b[0;34m-\u001b[0m\u001b[0;36m1\u001b[0m\u001b[0;34m\u001b[0m\u001b[0m\n\u001b[1;32m     65\u001b[0m \u001b[0;34m\u001b[0m\u001b[0m\n\u001b[0;32m---> 66\u001b[0;31m \u001b[0mprint\u001b[0m\u001b[0;34m(\u001b[0m\u001b[0mWeightedPath\u001b[0m\u001b[0;34m(\u001b[0m\u001b[0;34m[\u001b[0m\u001b[0;34m\"4\"\u001b[0m\u001b[0;34m,\u001b[0m\u001b[0;34m\"A\"\u001b[0m\u001b[0;34m,\u001b[0m\u001b[0;34m\"B\"\u001b[0m\u001b[0;34m,\u001b[0m\u001b[0;34m\"C\"\u001b[0m\u001b[0;34m,\u001b[0m\u001b[0;34m\"D\"\u001b[0m\u001b[0;34m,\u001b[0m \u001b[0;34m\"A|B|2\"\u001b[0m\u001b[0;34m,\u001b[0m \u001b[0;34m\"C|B|11\"\u001b[0m\u001b[0;34m,\u001b[0m \u001b[0;34m\"C|D|3\"\u001b[0m\u001b[0;34m,\u001b[0m \u001b[0;34m\"B|D|2\"\u001b[0m\u001b[0;34m]\u001b[0m\u001b[0;34m)\u001b[0m\u001b[0;34m==\u001b[0m\u001b[0;34m\"A-B-D\"\u001b[0m\u001b[0;34m)\u001b[0m\u001b[0;34m\u001b[0m\u001b[0m\n\u001b[0m\u001b[1;32m     67\u001b[0m \u001b[0mprint\u001b[0m\u001b[0;34m(\u001b[0m\u001b[0mWeightedPath\u001b[0m\u001b[0;34m(\u001b[0m\u001b[0;34m[\u001b[0m\u001b[0;34m\"4\"\u001b[0m\u001b[0;34m,\u001b[0m\u001b[0;34m\"x\"\u001b[0m\u001b[0;34m,\u001b[0m\u001b[0;34m\"y\"\u001b[0m\u001b[0;34m,\u001b[0m\u001b[0;34m\"z\"\u001b[0m\u001b[0;34m,\u001b[0m\u001b[0;34m\"w\"\u001b[0m\u001b[0;34m,\u001b[0m\u001b[0;34m\"x|y|2\"\u001b[0m\u001b[0;34m,\u001b[0m\u001b[0;34m\"y|z|14\"\u001b[0m\u001b[0;34m,\u001b[0m \u001b[0;34m\"z|y|31\"\u001b[0m\u001b[0;34m]\u001b[0m\u001b[0;34m)\u001b[0m\u001b[0;34m==\u001b[0m\u001b[0;34m-\u001b[0m\u001b[0;36m1\u001b[0m\u001b[0;34m)\u001b[0m\u001b[0;34m\u001b[0m\u001b[0m\n",
      "\u001b[0;32m<ipython-input-7-f2c400085880>\u001b[0m in \u001b[0;36mWeightedPath\u001b[0;34m(strArr)\u001b[0m\n\u001b[1;32m      3\u001b[0m     \u001b[0mq\u001b[0m \u001b[0;34m=\u001b[0m \u001b[0mstrArr\u001b[0m\u001b[0;34m[\u001b[0m\u001b[0;36m1\u001b[0m\u001b[0;34m:\u001b[0m\u001b[0mn\u001b[0m \u001b[0;34m+\u001b[0m \u001b[0;36m1\u001b[0m\u001b[0;34m]\u001b[0m\u001b[0;34m\u001b[0m\u001b[0m\n\u001b[1;32m      4\u001b[0m     \u001b[0mg\u001b[0m \u001b[0;34m=\u001b[0m \u001b[0mGraphGen\u001b[0m\u001b[0;34m(\u001b[0m\u001b[0mq\u001b[0m\u001b[0;34m,\u001b[0m \u001b[0mstrArr\u001b[0m\u001b[0;34m[\u001b[0m\u001b[0mn\u001b[0m \u001b[0;34m+\u001b[0m \u001b[0;36m1\u001b[0m\u001b[0;34m:\u001b[0m\u001b[0;34m]\u001b[0m\u001b[0;34m)\u001b[0m\u001b[0;34m\u001b[0m\u001b[0m\n\u001b[0;32m----> 5\u001b[0;31m     \u001b[0;32mreturn\u001b[0m \u001b[0mDijkstra\u001b[0m\u001b[0;34m(\u001b[0m\u001b[0mg\u001b[0m\u001b[0;34m,\u001b[0m \u001b[0mq\u001b[0m\u001b[0;34m[\u001b[0m\u001b[0;36m0\u001b[0m\u001b[0;34m]\u001b[0m\u001b[0;34m,\u001b[0m \u001b[0mq\u001b[0m\u001b[0;34m[\u001b[0m\u001b[0;34m-\u001b[0m\u001b[0;36m1\u001b[0m\u001b[0;34m]\u001b[0m\u001b[0;34m)\u001b[0m\u001b[0;34m\u001b[0m\u001b[0m\n\u001b[0m\u001b[1;32m      6\u001b[0m \u001b[0;34m\u001b[0m\u001b[0m\n\u001b[1;32m      7\u001b[0m \u001b[0;32mdef\u001b[0m \u001b[0mGraphGen\u001b[0m\u001b[0;34m(\u001b[0m\u001b[0mq\u001b[0m\u001b[0;34m,\u001b[0m \u001b[0mconn\u001b[0m\u001b[0;34m)\u001b[0m\u001b[0;34m:\u001b[0m\u001b[0;34m\u001b[0m\u001b[0m\n",
      "\u001b[0;32m<ipython-input-7-f2c400085880>\u001b[0m in \u001b[0;36mDijkstra\u001b[0;34m(graph, start, end)\u001b[0m\n\u001b[1;32m     30\u001b[0m                     \u001b[0mvsp\u001b[0m\u001b[0;34m[\u001b[0m\u001b[0m_\u001b[0m\u001b[0;34m[\u001b[0m\u001b[0;36m0\u001b[0m\u001b[0;34m]\u001b[0m\u001b[0;34m]\u001b[0m\u001b[0;34m[\u001b[0m\u001b[0;36m0\u001b[0m\u001b[0;34m]\u001b[0m \u001b[0;34m=\u001b[0m \u001b[0mvsp\u001b[0m\u001b[0;34m[\u001b[0m\u001b[0mcn\u001b[0m\u001b[0;34m]\u001b[0m\u001b[0;34m[\u001b[0m\u001b[0;36m0\u001b[0m\u001b[0;34m]\u001b[0m \u001b[0;34m+\u001b[0m \u001b[0mint\u001b[0m\u001b[0;34m(\u001b[0m\u001b[0m_\u001b[0m\u001b[0;34m[\u001b[0m\u001b[0;36m1\u001b[0m\u001b[0;34m]\u001b[0m\u001b[0;34m)\u001b[0m \u001b[0;31m# shortest distance from start\u001b[0m\u001b[0;34m\u001b[0m\u001b[0m\n\u001b[1;32m     31\u001b[0m                     \u001b[0mvsp\u001b[0m\u001b[0;34m[\u001b[0m\u001b[0m_\u001b[0m\u001b[0;34m[\u001b[0m\u001b[0;36m0\u001b[0m\u001b[0;34m]\u001b[0m\u001b[0;34m]\u001b[0m\u001b[0;34m[\u001b[0m\u001b[0;36m1\u001b[0m\u001b[0;34m]\u001b[0m \u001b[0;34m=\u001b[0m \u001b[0mcn\u001b[0m \u001b[0;31m# previous vertex\u001b[0m\u001b[0;34m\u001b[0m\u001b[0m\n\u001b[0;32m---> 32\u001b[0;31m         \u001b[0mvn\u001b[0m\u001b[0;34m.\u001b[0m\u001b[0mappend\u001b[0m\u001b[0;34m(\u001b[0m\u001b[0muvn\u001b[0m\u001b[0;34m.\u001b[0m\u001b[0mpop\u001b[0m\u001b[0;34m(\u001b[0m\u001b[0muvn\u001b[0m\u001b[0;34m.\u001b[0m\u001b[0mindex\u001b[0m\u001b[0;34m(\u001b[0m\u001b[0mcn\u001b[0m\u001b[0;34m)\u001b[0m\u001b[0;34m)\u001b[0m\u001b[0;34m)\u001b[0m\u001b[0;34m\u001b[0m\u001b[0m\n\u001b[0m\u001b[1;32m     33\u001b[0m         \u001b[0mt\u001b[0m \u001b[0;34m=\u001b[0m \u001b[0;34m{\u001b[0m\u001b[0;34m}\u001b[0m\u001b[0;34m\u001b[0m\u001b[0m\n\u001b[1;32m     34\u001b[0m         \u001b[0;32mfor\u001b[0m \u001b[0mi\u001b[0m \u001b[0;32min\u001b[0m \u001b[0mvsp\u001b[0m\u001b[0;34m.\u001b[0m\u001b[0mkeys\u001b[0m\u001b[0;34m(\u001b[0m\u001b[0;34m)\u001b[0m\u001b[0;34m:\u001b[0m\u001b[0;34m\u001b[0m\u001b[0m\n",
      "\u001b[0;31mAttributeError\u001b[0m: 'dict_keys' object has no attribute 'pop'"
     ]
    }
   ],
   "source": [
    "def WeightedPath(strArr):\n",
    "    n = int(strArr[0])\n",
    "    q = strArr[1:n + 1]\n",
    "    g = GraphGen(q, strArr[n + 1:])\n",
    "    return Dijkstra(g, q[0], q[-1])\n",
    " \n",
    "def GraphGen(q, conn):\n",
    "    dist = {}\n",
    "    for i in range(len(q)):\n",
    "        dist[q[i]] = []\n",
    "    for i in range(len(conn)):\n",
    "        conn[i] = conn[i].split('|')\n",
    "        dist[conn[i][0]] += [(conn[i][1], conn[i][2])]\n",
    "        dist[conn[i][1]] += [(conn[i][0], conn[i][2])]\n",
    "    return dist\n",
    "\n",
    "def Dijkstra(graph, start, end):\n",
    "    if ConnCheck(graph, start, end) == -1:\n",
    "        return -1\n",
    "    vsp = {}\n",
    "    vn, uvn = [], graph.keys()\n",
    "    for _ in uvn:\n",
    "        vsp[_] = [9999, 'Dummy']\n",
    "    vsp[start][0] = 0\n",
    "    cn = start\n",
    "    while uvn:\n",
    "        for _ in graph[cn]:\n",
    "            if cn not in vn:\n",
    "                if vsp[_[0]][0] > vsp[cn][0] + int(_[1]):\n",
    "                    vsp[_[0]][0] = vsp[cn][0] + int(_[1]) # shortest distance from start\n",
    "                    vsp[_[0]][1] = cn # previous vertex\n",
    "        vn.append(uvn.pop(uvn.index(cn)))\n",
    "        t = {}\n",
    "        for i in vsp.keys():\n",
    "            if i in uvn:\n",
    "                t[i] = vsp[i]\n",
    "        try:\n",
    "            cn = min(t, key=t.get)  # shortest distance list from start\n",
    "        except:\n",
    "            break\n",
    "    cc = end\n",
    "    aws = [cc]\n",
    "    while cc != start:\n",
    "        cc = vsp[cc][1]\n",
    "        aws.append(cc)\n",
    "    aws = '-'.join(aws[::-1])\n",
    "    return aws\n",
    " \n",
    "def ConnCheck(graph, start, end):\n",
    "    q = [[start]]\n",
    "    while q:\n",
    "        path = q.pop(0)\n",
    "        en = path[-1]\n",
    "        if len(path) > 2:\n",
    "            pn = path[-2]\n",
    "        else:\n",
    "            pn = en\n",
    "        if en == end:\n",
    "            return path\n",
    "        for _ in graph[en]:\n",
    "            if _[0] != pn:\n",
    "                newp = path + [_[0]]\n",
    "                q.append(newp)\n",
    "    return -1\n",
    " \n",
    "print(WeightedPath([\"4\",\"A\",\"B\",\"C\",\"D\", \"A|B|2\", \"C|B|11\", \"C|D|3\", \"B|D|2\"])==\"A-B-D\")\n",
    "print(WeightedPath([\"4\",\"x\",\"y\",\"z\",\"w\",\"x|y|2\",\"y|z|14\", \"z|y|31\"])==-1)"
   ]
  },
  {
   "cell_type": "code",
   "execution_count": null,
   "metadata": {
    "collapsed": true
   },
   "outputs": [],
   "source": []
  }
 ],
 "metadata": {
  "kernelspec": {
   "display_name": "Python 3",
   "language": "python",
   "name": "python3"
  },
  "language_info": {
   "codemirror_mode": {
    "name": "ipython",
    "version": 3
   },
   "file_extension": ".py",
   "mimetype": "text/x-python",
   "name": "python",
   "nbconvert_exporter": "python",
   "pygments_lexer": "ipython3",
   "version": "3.5.2"
  }
 },
 "nbformat": 4,
 "nbformat_minor": 2
}
