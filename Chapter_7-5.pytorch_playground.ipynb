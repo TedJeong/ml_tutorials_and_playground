{
 "cells": [
  {
   "cell_type": "markdown",
   "metadata": {},
   "source": [
    "# pytorch_playground"
   ]
  },
  {
   "cell_type": "markdown",
   "metadata": {},
   "source": [
    "## Contents\n",
    "\n",
    "https://github.com/yunjey/pytorch-tutorial  \n",
    "https://github.com/rguthrie3/DeepLearningForNLPInPytorch/blob/master/README.md  \n",
    "https://github.com/bharathgs/Awesome-pytorch-list  "
   ]
  },
  {
   "cell_type": "code",
   "execution_count": 6,
   "metadata": {
    "collapsed": false
   },
   "outputs": [
    {
     "name": "stdout",
     "output_type": "stream",
     "text": [
      "\n",
      "1.00000e-20 *\n",
      "  0.0000  0.0000  0.0000\n",
      "  0.0000  0.0000  0.0000\n",
      "  0.0000  0.0000  0.0000\n",
      "  0.0000  0.0000  0.0000\n",
      "  0.0000  0.0000  4.7005\n",
      "[torch.FloatTensor of size 5x3]\n",
      "\n",
      "\n",
      " 0.8545  0.3921  0.0458\n",
      " 0.9639  0.0175  0.1962\n",
      " 0.1361  0.3392  0.0941\n",
      " 0.0312  0.0508  0.7667\n",
      " 0.3455  0.2737  0.8320\n",
      "[torch.FloatTensor of size 5x3]\n",
      "\n",
      "torch.Size([5, 3])\n",
      "\n",
      " 1.7057  0.6579  0.1777\n",
      " 1.9553  0.7841  0.4558\n",
      " 0.9794  0.8587  0.2019\n",
      " 0.3709  1.0073  0.7953\n",
      " 0.5608  1.1229  0.9242\n",
      "[torch.FloatTensor of size 5x3]\n",
      " \n",
      " 1.7057  0.6579  0.1777\n",
      " 1.9553  0.7841  0.4558\n",
      " 0.9794  0.8587  0.2019\n",
      " 0.3709  1.0073  0.7953\n",
      " 0.5608  1.1229  0.9242\n",
      "[torch.FloatTensor of size 5x3]\n",
      "\n",
      "\n",
      " 1.7057  0.6579  0.1777\n",
      " 1.9553  0.7841  0.4558\n",
      " 0.9794  0.8587  0.2019\n",
      " 0.3709  1.0073  0.7953\n",
      " 0.5608  1.1229  0.9242\n",
      "[torch.FloatTensor of size 5x3]\n",
      "\n",
      "\n",
      " 1.7057  0.6579  0.1777\n",
      " 1.9553  0.7841  0.4558\n",
      " 0.9794  0.8587  0.2019\n",
      " 0.3709  1.0073  0.7953\n",
      " 0.5608  1.1229  0.9242\n",
      "[torch.FloatTensor of size 5x3]\n",
      "\n",
      "\n",
      " 0.3921\n",
      " 0.0175\n",
      " 0.3392\n",
      " 0.0508\n",
      " 0.2737\n",
      "[torch.FloatTensor of size 5]\n",
      "\n",
      "[ 1.  1.  1.  1.  1.]\n"
     ]
    }
   ],
   "source": [
    "import torch\n",
    "x = torch.Tensor(5, 3)\n",
    "print(x)\n",
    "x = torch.rand(5, 3)\n",
    "print(x)\n",
    "print(x.size())\n",
    "y = torch.rand(5, 3)\n",
    "print(x+y, torch.add(x, y))\n",
    "# giving an output tensor\n",
    "result = torch.Tensor(5, 3)\n",
    "torch.add(x, y, out=result)\n",
    "print(result)\n",
    "# in place\n",
    "y.add_(x)\n",
    "print(y)\n",
    "#\n",
    "print(x[:, 1])\n",
    "a = torch.ones(5)\n",
    "b = a.numpy()\n",
    "print(b)"
   ]
  },
  {
   "cell_type": "code",
   "execution_count": 12,
   "metadata": {
    "collapsed": false
   },
   "outputs": [],
   "source": [
    "import torchvision\n",
    "import torch.nn as nn\n",
    "import torch.utils.data as data\n",
    "import numpy as np\n",
    "import torchvision.transforms as transforms\n",
    "import torchvision.datasets as dsets\n",
    "from torch.autograd import Variable"
   ]
  },
  {
   "cell_type": "code",
   "execution_count": 13,
   "metadata": {
    "collapsed": false
   },
   "outputs": [
    {
     "name": "stdout",
     "output_type": "stream",
     "text": [
      "Parameter containing:\n",
      "-0.2761 -0.1111  0.1052\n",
      " 0.0032 -0.1565  0.4467\n",
      "[torch.FloatTensor of size 2x3]\n",
      "\n",
      "Parameter containing:\n",
      "-0.2428\n",
      "-0.0478\n",
      "[torch.FloatTensor of size 2]\n",
      "\n"
     ]
    }
   ],
   "source": [
    "linear= nn.Linear(3,2)\n",
    "print(linear.weight)\n",
    "print(linear.bias)"
   ]
  },
  {
   "cell_type": "code",
   "execution_count": 15,
   "metadata": {
    "collapsed": false
   },
   "outputs": [],
   "source": [
    "transform = transforms.Compose([\n",
    "    transforms.Scale(40),\n",
    "    transforms.RandomHorizontalFlip(),\n",
    "    transforms.RandomCrop(32),\n",
    "    transforms.ToTensor()\n",
    "])"
   ]
  },
  {
   "cell_type": "code",
   "execution_count": 24,
   "metadata": {
    "collapsed": false
   },
   "outputs": [
    {
     "name": "stdout",
     "output_type": "stream",
     "text": [
      "Downloading http://www.cs.toronto.edu/~kriz/cifar-10-python.tar.gz to ./dataset/cifar10/pytorch/cifar-10-python.tar.gz\n"
     ]
    }
   ],
   "source": [
    "train_dataset = dsets.CIFAR10(root='./dataset/cifar10/pytorch/', \n",
    "                             train=True, transform=transform, download=True)"
   ]
  },
  {
   "cell_type": "code",
   "execution_count": 25,
   "metadata": {
    "collapsed": true
   },
   "outputs": [],
   "source": [
    "test_dataset = dsets.CIFAR10(root='dataset/cifar10/pytorch', \n",
    "                            train=False,\n",
    "                            transform=transforms.ToTensor())"
   ]
  },
  {
   "cell_type": "code",
   "execution_count": 26,
   "metadata": {
    "collapsed": true
   },
   "outputs": [],
   "source": [
    "train_loader = torch.utils.data.DataLoader(dataset=train_dataset,\n",
    "                                          batch_size=100,\n",
    "                                          shuffle=True)\n",
    "test_loader = torch.utils.data.DataLoader(dataset=test_dataset,\n",
    "                                         batch_size=100,\n",
    "                                         shuffle=False)"
   ]
  },
  {
   "cell_type": "code",
   "execution_count": 27,
   "metadata": {
    "collapsed": true
   },
   "outputs": [],
   "source": [
    "def conv3x3(in_channels, out_channels, stride=1):\n",
    "    return nn.Conv2d(in_channels, out_channels, kernel_size=3,\n",
    "                    stride=stride, padding=1, bias=False)"
   ]
  },
  {
   "cell_type": "code",
   "execution_count": null,
   "metadata": {
    "collapsed": true
   },
   "outputs": [],
   "source": [
    "class ResidualBlock(nn.Module):\n",
    "    def __init__(self, in_channels, out_channels, stride=1, downsample=None):\n",
    "        super(ResidualBlock, self).__init__()\n",
    "        self.conv1 = conv3x3(in_channels, out_channels, stride)\n",
    "        self.bn1 = nn.BatchNorm2d(out_channels)\n",
    "        self.relu = nn.ReLU(inplace=True)\n",
    "        self.conv2 = conv3x3(in_channels, out_channels)\n",
    "        self.bn2 = nn.BatchNorm2d(out_channels)\n",
    "        self.downsample = downsample"
   ]
  }
 ],
 "metadata": {
  "kernelspec": {
   "display_name": "Python 3",
   "language": "python",
   "name": "python3"
  },
  "language_info": {
   "codemirror_mode": {
    "name": "ipython",
    "version": 3
   },
   "file_extension": ".py",
   "mimetype": "text/x-python",
   "name": "python",
   "nbconvert_exporter": "python",
   "pygments_lexer": "ipython3",
   "version": "3.5.2"
  }
 },
 "nbformat": 4,
 "nbformat_minor": 2
}
