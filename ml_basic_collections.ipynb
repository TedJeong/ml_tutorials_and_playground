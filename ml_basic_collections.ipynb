{
 "cells": [
  {
   "cell_type": "markdown",
   "metadata": {},
   "source": [
    "<a id='Basic Linear Models'></a>\n",
    "# Basic Linear Models\n",
    "  - [Linear Regression](#Linear Regression)\n",
    "  - [Support Vector Machine](#Support Vector Machine)"
   ]
  },
  {
   "cell_type": "markdown",
   "metadata": {},
   "source": [
    "<a id='Support Vector Machine'></a>\n",
    "## Support Vector Machine\n",
    "\n",
    "\n",
    "\\begin{eqnarray}\n",
    "% Lagrangian\n",
    "L \\left( \\mathbf{\\omega} , \\omega_0;\\lambda_1, \\lambda_2 \\cdots \\lambda_N \\right) &=& \n",
    "\\frac{|\\mathbf{\\omega}|^2}{2} - \\underset{i}{\\sum} \\lambda_i ( y_i ( \\mathbf{\\omega}^{T} \\mathbf{x}_i + \\omega_0 ) - 1 ) \\\\\n",
    "% argmin\n",
    "\\frac{\\partial L}{\\partial \\mathbf{\\omega}} &=& \n",
    "\\mathbf{\\omega} - \\underset{i}{\\sum} \\lambda_i y_i \\mathbf{x}_i|_{\\mathbf{w}=\\mathbf{w*}} = 0 \\\\\n",
    "\\frac{\\partial L}{\\partial \\omega_0} &=&\n",
    "- \\underset{i}{\\sum} \\lambda_i y_i |_{\\omega_0 = \\omega_0*} = 0 \\\\\n",
    "\\end{eqnarray}\n",
    "\n",
    "Now, put those below two equations to the Lagrangian,\n",
    "\n",
    "\\begin{eqnarray}\n",
    "% changed Lagrangian\n",
    "L ( \\lambda ) = \\underset{i}{\\sum} \\lambda_i - \\frac{1}{2} \\underset{i}{\\sum} \\underset{j}{\\sum} \\lambda_i \\lambda_j y_i y_j \\mathbf{x}_i^T \\mathbf{x}_j \\\\\n",
    "s.t. \\underset{i}{\\sum} \\lambda_i y_i = 0\n",
    "\\end{eqnarray}"
   ]
  },
  {
   "cell_type": "code",
   "execution_count": null,
   "metadata": {
    "collapsed": true
   },
   "outputs": [],
   "source": []
  },
  {
   "cell_type": "code",
   "execution_count": null,
   "metadata": {
    "collapsed": true
   },
   "outputs": [],
   "source": []
  },
  {
   "cell_type": "code",
   "execution_count": null,
   "metadata": {
    "collapsed": true
   },
   "outputs": [],
   "source": []
  }
 ],
 "metadata": {
  "kernelspec": {
   "display_name": "Python 3",
   "language": "python",
   "name": "python3"
  },
  "language_info": {
   "codemirror_mode": {
    "name": "ipython",
    "version": 3
   },
   "file_extension": ".py",
   "mimetype": "text/x-python",
   "name": "python",
   "nbconvert_exporter": "python",
   "pygments_lexer": "ipython3",
   "version": "3.5.2"
  }
 },
 "nbformat": 4,
 "nbformat_minor": 2
}
